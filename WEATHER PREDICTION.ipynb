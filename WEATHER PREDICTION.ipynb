# WEATHER PREDICTION PROJECT (MACHINE LEARNING)

# Step 1: Import libraries
import pandas as pd
import numpy as np
import matplotlib.pyplot as plt
import seaborn as sns

from sklearn.model_selection import train_test_split
from sklearn.linear_model import LinearRegression
from sklearn.metrics import mean_squared_error, r2_score

# Step 2: Load dataset
# Replace this with your own dataset path if using locally
url = "https://raw.githubusercontent.com/Opensourcefordatascience/Data-sets/master/weatherAUS.csv"
df = pd.read_csv(url)

# Step 3: Display first few rows
df.head()

# Step 4: Basic info and null values
print(df.info())
print("\nMissing Values:\n", df.isnull().sum())

# Step 5: Drop columns with too many missing values and fill others
df = df.drop(['Sunshine', 'Evaporation', 'Cloud9am', 'Cloud3pm'], axis=1)
df = df.dropna()

# Step 6: Encode categorical data
from sklearn.preprocessing import LabelEncoder
le = LabelEncoder()

df['RainToday'] = le.fit_transform(df['RainToday'])
df['RainTomorrow'] = le.fit_transform(df['RainTomorrow'])

# Drop non-useful columns
df = df.drop(['Date', 'Location', 'WindGustDir', 'WindDir9am', 'WindDir3pm'], axis=1)

# Step 7: Define features and target
X = df.drop('RainTomorrow', axis=1)
y = df['RainTomorrow']

# Step 8: Train/test split
X_train, X_test, y_train, y_test = train_test_split(X, y, test_size=0.2, random_state=42)

# Step 9: Train model
model = LinearRegression()
model.fit(X_train, y_train)

# Step 10: Predict and evaluate
y_pred = model.predict(X_test)

# Convert probabilities to binary prediction (0.5 threshold)
y_pred_class = (y_pred > 0.5).astype(int)

print("R2 Score:", r2_score(y_test, y_pred))
print("MSE:", mean_squared_error(y_test, y_pred))

# Accuracy
from sklearn.metrics import accuracy_score
print("Accuracy:", accuracy_score(y_test, y_pred_class))

# Step 11: Predict on new data (example)
sample = X_test.iloc[0:1]
predicted = model.predict(sample)
print("\nSample Prediction (probability):", predicted)
print("Rain Tomorrow:", "Yes" if predicted[0] > 0.5 else "No")
